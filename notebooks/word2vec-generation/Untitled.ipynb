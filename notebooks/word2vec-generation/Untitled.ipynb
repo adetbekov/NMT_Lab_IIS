{
 "cells": [
  {
   "cell_type": "code",
   "execution_count": 1,
   "metadata": {},
   "outputs": [],
   "source": [
    "from gensim.models import Word2Vec"
   ]
  },
  {
   "cell_type": "code",
   "execution_count": 2,
   "metadata": {},
   "outputs": [],
   "source": [
    "text_en = \"The text of the rule will be written in the paper. \\\n",
    "He does not agree with this law. \\\n",
    "He is thankful for my support and this help. \\\n",
    "It was interesting. \\\n",
    "It was a good season to have a lunch.\""
   ]
  },
  {
   "cell_type": "code",
   "execution_count": 3,
   "metadata": {},
   "outputs": [],
   "source": [
    "text_en_ml = \"detdefsp nsg pr detdefsp nsg vauxinf vbserinf vblexpp pr detdefsp nsg \\\n",
    "prnsubjp3msg vbdopresp3sg adv vblexinf pr detdemsg nsg \\\n",
    "prnsubjp3msg vbserpresp3sg adj pr detpossp nsg cnjcoo detdemsg nsg \\\n",
    "prnsubjp3ntsg vbserpastp3sg vblexger \\\n",
    "prnsubjp3ntsg vbserpastp3sg detindsg adjsint nsg pr vblexinf detindsg nsg\""
   ]
  },
  {
   "cell_type": "code",
   "execution_count": 28,
   "metadata": {},
   "outputs": [],
   "source": [
    "import re\n",
    "regex = r'\\w+'"
   ]
  },
  {
   "cell_type": "code",
   "execution_count": 31,
   "metadata": {},
   "outputs": [],
   "source": [
    "vocab_en = re.findall(regex, text_en.lower())\n",
    "vocab_en_ml = text_en_ml.split(\" \")"
   ]
  },
  {
   "cell_type": "code",
   "execution_count": 74,
   "metadata": {},
   "outputs": [],
   "source": [
    "import collections\n",
    "def build_corpus(words):\n",
    "    count = collections.Counter(words).most_common()\n",
    "    corpus, ignore_corpus = [], []\n",
    "    for word, _ in count:\n",
    "#         if _ > 1:\n",
    "        corpus.append(word)\n",
    "#         else:\n",
    "#             ignore_corpus.append(word)\n",
    "    return corpus, ignore_corpus"
   ]
  },
  {
   "cell_type": "code",
   "execution_count": 75,
   "metadata": {},
   "outputs": [],
   "source": [
    "corpus_en, ignore_corpus_en = build_corpus(\" \".join(vocab_en).split())\n",
    "corpus_en_ml, ignore_corpus_en_ml = build_corpus(\" \".join(vocab_en_ml).split())"
   ]
  },
  {
   "cell_type": "code",
   "execution_count": 76,
   "metadata": {},
   "outputs": [],
   "source": [
    "cleaned_texts_en = [[word for word in text.split() if word not in ignore_corpus_en] for text in vocab_en]\n",
    "cleaned_texts_en_ml = [[word for word in text.split() if word not in ignore_corpus_en_ml] for text in vocab_en_ml]\n"
   ]
  },
  {
   "cell_type": "code",
   "execution_count": 77,
   "metadata": {},
   "outputs": [
    {
     "data": {
      "text/plain": [
       "(250, 1170)"
      ]
     },
     "execution_count": 77,
     "metadata": {},
     "output_type": "execute_result"
    }
   ],
   "source": [
    "model_en = Word2Vec(cleaned_texts_en, size=100, window=5, min_count=1, workers=4)\n",
    "model_en.train(cleaned_texts_en, total_examples=len(corpus_en), epochs=30)"
   ]
  },
  {
   "cell_type": "code",
   "execution_count": 78,
   "metadata": {},
   "outputs": [
    {
     "data": {
      "text/plain": [
       "(182, 1170)"
      ]
     },
     "execution_count": 78,
     "metadata": {},
     "output_type": "execute_result"
    }
   ],
   "source": [
    "model_en_ml = Word2Vec(cleaned_texts_en_ml, size=100, window=5, min_count=1, workers=4)\n",
    "model_en_ml.train(cleaned_texts_en_ml, total_examples=len(corpus_en_ml), epochs=30)"
   ]
  },
  {
   "cell_type": "code",
   "execution_count": 79,
   "metadata": {},
   "outputs": [
    {
     "name": "stderr",
     "output_type": "stream",
     "text": [
      "/Library/Frameworks/Python.framework/Versions/3.7/lib/python3.7/site-packages/ipykernel_launcher.py:1: DeprecationWarning: Call to deprecated `__getitem__` (Method will be removed in 4.0.0, use self.wv.__getitem__() instead).\n",
      "  \"\"\"Entry point for launching an IPython kernel.\n",
      "/Library/Frameworks/Python.framework/Versions/3.7/lib/python3.7/site-packages/ipykernel_launcher.py:2: DeprecationWarning: Call to deprecated `__getitem__` (Method will be removed in 4.0.0, use self.wv.__getitem__() instead).\n",
      "  \n"
     ]
    }
   ],
   "source": [
    "list_vector_en = [(word, model_en[word]) for word in map(str, corpus_en)]\n",
    "list_vector_en_ml = [(word, model_en_ml[word]) for word in map(str, corpus_en_ml)]"
   ]
  },
  {
   "cell_type": "code",
   "execution_count": 83,
   "metadata": {},
   "outputs": [],
   "source": [
    "import numpy as np\n",
    "import pandas as pd"
   ]
  },
  {
   "cell_type": "code",
   "execution_count": 84,
   "metadata": {},
   "outputs": [],
   "source": [
    "values_en = list(zip(*list_vector_en))[0]\n",
    "vectors_en = np.matrix(list(zip(*list_vector_en))[1])\n",
    "values_en_ml = list(zip(*list_vector_en_ml))[0]\n",
    "vectors_en_ml = np.matrix(list(zip(*list_vector_en_ml))[1])"
   ]
  },
  {
   "cell_type": "code",
   "execution_count": 85,
   "metadata": {},
   "outputs": [],
   "source": [
    "vector_en_df = pd.DataFrame(vectors_en, columns=list(map(str, np.arange(0, 100))), index=values_en)\n",
    "vector_en_ml_df = pd.DataFrame(vectors_en_ml, columns=list(map(str, np.arange(0, 100))), index=values_en_ml)"
   ]
  },
  {
   "cell_type": "code",
   "execution_count": 95,
   "metadata": {},
   "outputs": [
    {
     "data": {
      "text/html": [
       "<div>\n",
       "<style scoped>\n",
       "    .dataframe tbody tr th:only-of-type {\n",
       "        vertical-align: middle;\n",
       "    }\n",
       "\n",
       "    .dataframe tbody tr th {\n",
       "        vertical-align: top;\n",
       "    }\n",
       "\n",
       "    .dataframe thead th {\n",
       "        text-align: right;\n",
       "    }\n",
       "</style>\n",
       "<table border=\"1\" class=\"dataframe\">\n",
       "  <thead>\n",
       "    <tr style=\"text-align: right;\">\n",
       "      <th></th>\n",
       "      <th>0</th>\n",
       "      <th>1</th>\n",
       "      <th>2</th>\n",
       "      <th>3</th>\n",
       "      <th>4</th>\n",
       "      <th>5</th>\n",
       "      <th>6</th>\n",
       "      <th>7</th>\n",
       "      <th>8</th>\n",
       "      <th>9</th>\n",
       "      <th>...</th>\n",
       "      <th>90</th>\n",
       "      <th>91</th>\n",
       "      <th>92</th>\n",
       "      <th>93</th>\n",
       "      <th>94</th>\n",
       "      <th>95</th>\n",
       "      <th>96</th>\n",
       "      <th>97</th>\n",
       "      <th>98</th>\n",
       "      <th>99</th>\n",
       "    </tr>\n",
       "  </thead>\n",
       "  <tbody>\n",
       "    <tr>\n",
       "      <th>nsg</th>\n",
       "      <td>0.003835</td>\n",
       "      <td>0.002816</td>\n",
       "      <td>-0.003286</td>\n",
       "      <td>-0.001736</td>\n",
       "      <td>-0.003462</td>\n",
       "      <td>-0.004158</td>\n",
       "      <td>-0.004724</td>\n",
       "      <td>0.004149</td>\n",
       "      <td>-0.002886</td>\n",
       "      <td>0.004677</td>\n",
       "      <td>...</td>\n",
       "      <td>-0.004794</td>\n",
       "      <td>0.000497</td>\n",
       "      <td>0.002977</td>\n",
       "      <td>0.004046</td>\n",
       "      <td>-0.002958</td>\n",
       "      <td>-0.000840</td>\n",
       "      <td>-0.003359</td>\n",
       "      <td>-0.003465</td>\n",
       "      <td>0.000065</td>\n",
       "      <td>-0.002119</td>\n",
       "    </tr>\n",
       "    <tr>\n",
       "      <th>pr</th>\n",
       "      <td>-0.002373</td>\n",
       "      <td>-0.000073</td>\n",
       "      <td>-0.001352</td>\n",
       "      <td>-0.004694</td>\n",
       "      <td>-0.000061</td>\n",
       "      <td>-0.003509</td>\n",
       "      <td>-0.000948</td>\n",
       "      <td>-0.002733</td>\n",
       "      <td>-0.002524</td>\n",
       "      <td>0.003934</td>\n",
       "      <td>...</td>\n",
       "      <td>0.002243</td>\n",
       "      <td>0.000604</td>\n",
       "      <td>-0.002660</td>\n",
       "      <td>0.001496</td>\n",
       "      <td>0.003866</td>\n",
       "      <td>0.003660</td>\n",
       "      <td>-0.001988</td>\n",
       "      <td>-0.002705</td>\n",
       "      <td>-0.001344</td>\n",
       "      <td>-0.002911</td>\n",
       "    </tr>\n",
       "    <tr>\n",
       "      <th>detdefsp</th>\n",
       "      <td>0.004680</td>\n",
       "      <td>0.003117</td>\n",
       "      <td>0.000312</td>\n",
       "      <td>0.000669</td>\n",
       "      <td>-0.002617</td>\n",
       "      <td>-0.001702</td>\n",
       "      <td>-0.000729</td>\n",
       "      <td>0.004551</td>\n",
       "      <td>-0.000502</td>\n",
       "      <td>0.003573</td>\n",
       "      <td>...</td>\n",
       "      <td>-0.002318</td>\n",
       "      <td>-0.001209</td>\n",
       "      <td>-0.003509</td>\n",
       "      <td>0.000573</td>\n",
       "      <td>0.004093</td>\n",
       "      <td>-0.002700</td>\n",
       "      <td>-0.001279</td>\n",
       "      <td>0.003026</td>\n",
       "      <td>-0.003047</td>\n",
       "      <td>-0.004982</td>\n",
       "    </tr>\n",
       "    <tr>\n",
       "      <th>prnsubjp3msg</th>\n",
       "      <td>0.004699</td>\n",
       "      <td>0.003378</td>\n",
       "      <td>-0.003057</td>\n",
       "      <td>0.004843</td>\n",
       "      <td>0.000732</td>\n",
       "      <td>-0.004161</td>\n",
       "      <td>0.004518</td>\n",
       "      <td>-0.003265</td>\n",
       "      <td>0.002178</td>\n",
       "      <td>-0.000512</td>\n",
       "      <td>...</td>\n",
       "      <td>0.003318</td>\n",
       "      <td>-0.002085</td>\n",
       "      <td>-0.004911</td>\n",
       "      <td>0.002749</td>\n",
       "      <td>0.001461</td>\n",
       "      <td>-0.001167</td>\n",
       "      <td>-0.000214</td>\n",
       "      <td>0.001212</td>\n",
       "      <td>-0.001637</td>\n",
       "      <td>-0.001623</td>\n",
       "    </tr>\n",
       "    <tr>\n",
       "      <th>vblexinf</th>\n",
       "      <td>-0.002423</td>\n",
       "      <td>0.002955</td>\n",
       "      <td>-0.000695</td>\n",
       "      <td>-0.000973</td>\n",
       "      <td>0.004620</td>\n",
       "      <td>-0.002093</td>\n",
       "      <td>0.002159</td>\n",
       "      <td>-0.004954</td>\n",
       "      <td>-0.000983</td>\n",
       "      <td>-0.001946</td>\n",
       "      <td>...</td>\n",
       "      <td>-0.004044</td>\n",
       "      <td>0.000691</td>\n",
       "      <td>0.001725</td>\n",
       "      <td>0.002982</td>\n",
       "      <td>0.003367</td>\n",
       "      <td>0.003862</td>\n",
       "      <td>-0.004674</td>\n",
       "      <td>0.004674</td>\n",
       "      <td>-0.003154</td>\n",
       "      <td>-0.001525</td>\n",
       "    </tr>\n",
       "  </tbody>\n",
       "</table>\n",
       "<p>5 rows × 100 columns</p>\n",
       "</div>"
      ],
      "text/plain": [
       "                     0         1         2         3         4         5  \\\n",
       "nsg           0.003835  0.002816 -0.003286 -0.001736 -0.003462 -0.004158   \n",
       "pr           -0.002373 -0.000073 -0.001352 -0.004694 -0.000061 -0.003509   \n",
       "detdefsp      0.004680  0.003117  0.000312  0.000669 -0.002617 -0.001702   \n",
       "prnsubjp3msg  0.004699  0.003378 -0.003057  0.004843  0.000732 -0.004161   \n",
       "vblexinf     -0.002423  0.002955 -0.000695 -0.000973  0.004620 -0.002093   \n",
       "\n",
       "                     6         7         8         9    ...           90  \\\n",
       "nsg          -0.004724  0.004149 -0.002886  0.004677    ...    -0.004794   \n",
       "pr           -0.000948 -0.002733 -0.002524  0.003934    ...     0.002243   \n",
       "detdefsp     -0.000729  0.004551 -0.000502  0.003573    ...    -0.002318   \n",
       "prnsubjp3msg  0.004518 -0.003265  0.002178 -0.000512    ...     0.003318   \n",
       "vblexinf      0.002159 -0.004954 -0.000983 -0.001946    ...    -0.004044   \n",
       "\n",
       "                    91        92        93        94        95        96  \\\n",
       "nsg           0.000497  0.002977  0.004046 -0.002958 -0.000840 -0.003359   \n",
       "pr            0.000604 -0.002660  0.001496  0.003866  0.003660 -0.001988   \n",
       "detdefsp     -0.001209 -0.003509  0.000573  0.004093 -0.002700 -0.001279   \n",
       "prnsubjp3msg -0.002085 -0.004911  0.002749  0.001461 -0.001167 -0.000214   \n",
       "vblexinf      0.000691  0.001725  0.002982  0.003367  0.003862 -0.004674   \n",
       "\n",
       "                    97        98        99  \n",
       "nsg          -0.003465  0.000065 -0.002119  \n",
       "pr           -0.002705 -0.001344 -0.002911  \n",
       "detdefsp      0.003026 -0.003047 -0.004982  \n",
       "prnsubjp3msg  0.001212 -0.001637 -0.001623  \n",
       "vblexinf      0.004674 -0.003154 -0.001525  \n",
       "\n",
       "[5 rows x 100 columns]"
      ]
     },
     "execution_count": 95,
     "metadata": {},
     "output_type": "execute_result"
    }
   ],
   "source": [
    "vector_en_ml_df.head()"
   ]
  },
  {
   "cell_type": "code",
   "execution_count": 87,
   "metadata": {},
   "outputs": [],
   "source": [
    "from sklearn.preprocessing import StandardScaler\n",
    "scaler = StandardScaler()"
   ]
  },
  {
   "cell_type": "code",
   "execution_count": 88,
   "metadata": {},
   "outputs": [],
   "source": [
    "scaled_vector_en_df = vector_en_df.copy()\n",
    "scaled_vector_en_ml_df = vector_en_ml_df.copy()"
   ]
  },
  {
   "cell_type": "code",
   "execution_count": 89,
   "metadata": {},
   "outputs": [],
   "source": [
    "scaled_vector_en_df[:] = scaler.fit_transform(vector_en_df)\n",
    "scaled_vector_en_ml_df[:] = scaler.fit_transform(vector_en_ml_df)"
   ]
  },
  {
   "cell_type": "code",
   "execution_count": 90,
   "metadata": {},
   "outputs": [],
   "source": [
    "from sklearn.decomposition import PCA\n",
    "import matplotlib.pyplot as plt"
   ]
  },
  {
   "cell_type": "code",
   "execution_count": 91,
   "metadata": {},
   "outputs": [],
   "source": [
    "pca = PCA(n_components=2)\n",
    "pca_scaled_vector_en_df = pca.fit_transform(scaled_vector_en_df)\n",
    "pca_scaled_vector_en_ml_df = pca.fit_transform(scaled_vector_en_ml_df)"
   ]
  },
  {
   "cell_type": "code",
   "execution_count": 92,
   "metadata": {},
   "outputs": [],
   "source": [
    "y_en=pca_scaled_vector_en_df.T[1]\n",
    "z_en=pca_scaled_vector_en_df.T[0]\n",
    "n_en=values_en\n",
    "\n",
    "y_en_ml=pca_scaled_vector_en_ml_df.T[1]\n",
    "z_en_ml=pca_scaled_vector_en_ml_df.T[0]\n",
    "n_en_ml=values_en_ml"
   ]
  },
  {
   "cell_type": "code",
   "execution_count": 96,
   "metadata": {},
   "outputs": [
    {
     "data": {
      "image/png": "[encoded data removed]",
      "text/plain": [
       "<Figure size 1080x1080 with 1 Axes>"
      ]
     },
     "metadata": {
      "needs_background": "light"
     },
     "output_type": "display_data"
    }
   ],
   "source": [
    "fig, ax = plt.subplots(figsize=(15,15))\n",
    "ax.scatter(z_en, y_en)\n",
    "\n",
    "for i, txt in enumerate(n_en):\n",
    "    ax.annotate(txt, (z_en[i],y_en[i]))\n",
    "    \n",
    "ax.scatter(z_en_ml, y_en_ml)\n",
    "\n",
    "for i, txt in enumerate(n_en_ml):\n",
    "    ax.annotate(txt, (z_en_ml[i],y_en_ml[i]))"
   ]
  },
  {
   "cell_type": "code",
   "execution_count": null,
   "metadata": {},
   "outputs": [],
   "source": []
  }
 ],
 "metadata": {
  "hide_input": false,
  "kernelspec": {
   "display_name": "Python 3",
   "language": "python",
   "name": "python3"
  },
  "language_info": {
   "codemirror_mode": {
    "name": "ipython",
    "version": 3
   },
   "file_extension": ".py",
   "mimetype": "text/x-python",
   "name": "python",
   "nbconvert_exporter": "python",
   "pygments_lexer": "ipython3",
   "version": "3.7.0"
  },
  "toc": {
   "base_numbering": 1,
   "nav_menu": {},
   "number_sections": true,
   "sideBar": true,
   "skip_h1_title": false,
   "title_cell": "Table of Contents",
   "title_sidebar": "Contents",
   "toc_cell": false,
   "toc_position": {},
   "toc_section_display": true,
   "toc_window_display": false
  }
 },
 "nbformat": 4,
 "nbformat_minor": 2
}
